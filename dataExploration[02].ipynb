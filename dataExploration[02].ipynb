{
 "cells": [
  {
   "cell_type": "code",
   "execution_count": 20,
   "metadata": {
    "collapsed": false
   },
   "outputs": [
    {
     "data": {
      "text/plain": [
       "Index(['Reference Number', 'Date Created', 'Date Closed', 'Request Status',\n",
       "       'Status Detail', 'Service Category', 'Service Code', 'Business Unit',\n",
       "       'Neighbourhood', 'Community League', 'Ward', 'Address', 'Lat', 'Long',\n",
       "       'Location', 'Ticket Source', 'Calendar Year', 'Days to Resolution',\n",
       "       'Month Created', 'Month Closed', 'Calendar Year Closed'],\n",
       "      dtype='object')"
      ]
     },
     "execution_count": 20,
     "metadata": {},
     "output_type": "execute_result"
    }
   ],
   "source": [
    "%matplotlib inline\n",
    "import pandas as pd\n",
    "df = pd.read_csv('data/311_Explorer_01.csv', parse_dates=\\\n",
    "                 ['Date Created','Date Closed'], \\\n",
    "                 low_memory = False)\n",
    "df.columns"
   ]
  },
  {
   "cell_type": "code",
   "execution_count": 3,
   "metadata": {
    "collapsed": false
   },
   "outputs": [
    {
     "data": {
      "text/plain": [
       "City Council                                          112\n",
       "Agenda Review Committee                                89\n",
       "City Council Public Hearing                            76\n",
       "Executive Committee                                    75\n",
       "Community Services Committee                           50\n",
       "Transportation Committee                               46\n",
       "Community Standards and Licence Appeal Committee       41\n",
       "Urban Planning Committee                               26\n",
       "Community and Public Services Committee                24\n",
       "Utility Committee                                      24\n",
       "Special City Council                                   22\n",
       "Audit Committee                                        22\n",
       "CM and CA Performance Review Committee                 20\n",
       "LRT Governance Board Committee                         18\n",
       "Council Services Committee                             15\n",
       "Special Audit Committee                                12\n",
       "Special Executive Committee                            10\n",
       "Audit Selection Committee                               8\n",
       "City Manager Recruitment Committee                      8\n",
       "Special Community Services Committee                    5\n",
       "City Council Budget                                     4\n",
       "Special CS and LA Committee                             4\n",
       "Council Compensation Committee                          2\n",
       "Special Utility Committee                               2\n",
       "Pending - Urban Planning Committee                      1\n",
       "Special Transportation Committee                        1\n",
       "Annexation Negotiating Committee                        1\n",
       "Inter-municipal and Regional Development Committee      1\n",
       "Name: MEETING_TYPE, dtype: int64"
      ]
     },
     "execution_count": 3,
     "metadata": {},
     "output_type": "execute_result"
    }
   ],
   "source": [
    "df2 = pd.read_csv('data/2013-2017_Council_And_Committee_Meetings_-_Meeting_Details.csv', parse_dates=['MEETING_DATE'], low_memory = False)\n",
    "df2['MEETING_TYPE'].value_counts()"
   ]
  },
  {
   "cell_type": "code",
   "execution_count": 9,
   "metadata": {
    "collapsed": false
   },
   "outputs": [
    {
     "data": {
      "image/png": "[encoded data removed]",
      "text/plain": [
       "<matplotlib.figure.Figure at 0x7f538a4c1b00>"
      ]
     },
     "metadata": {},
     "output_type": "display_data"
    }
   ],
   "source": [
    "import matplotlib.pyplot as plt \n",
    "\n",
    "df['Days to Resolution'].plot.hist()\n",
    "plt.xlabel(\"Days to Resolve\")\n",
    "plt.show()"
   ]
  },
  {
   "cell_type": "code",
   "execution_count": 19,
   "metadata": {
    "collapsed": false
   },
   "outputs": [
    {
     "name": "stdout",
     "output_type": "stream",
     "text": [
      "Number of different values: 976\n",
      "Number of values >= 200 days to resolve: 106\n"
     ]
    }
   ],
   "source": [
    "a = df['Days to Resolution'].value_counts()\n",
    "print(\"Number of different values:\",len(a))\n",
    "print(\"Number of values >= 200 days to resolve:\", len(a[a>=200]))\n",
    "\n",
    "# Most issues are resolved in the first 200 days"
   ]
  },
  {
   "cell_type": "code",
   "execution_count": null,
   "metadata": {
    "collapsed": true
   },
   "outputs": [],
   "source": []
  }
 ],
 "metadata": {
  "anaconda-cloud": {},
  "kernelspec": {
   "display_name": "Python [conda root]",
   "language": "python",
   "name": "conda-root-py"
  },
  "language_info": {
   "codemirror_mode": {
    "name": "ipython",
    "version": 3
   },
   "file_extension": ".py",
   "mimetype": "text/x-python",
   "name": "python",
   "nbconvert_exporter": "python",
   "pygments_lexer": "ipython3",
   "version": "3.5.2"
  }
 },
 "nbformat": 4,
 "nbformat_minor": 1
}
