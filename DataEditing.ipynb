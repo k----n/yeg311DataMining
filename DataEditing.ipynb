{
 "cells": [
  {
   "cell_type": "code",
   "execution_count": 8,
   "metadata": {
    "collapsed": false
   },
   "outputs": [],
   "source": [
    "import json\n",
    "\n",
    "# load GeoJSON file containing sectors\n",
    "with open('data/neighbourhoods.geojson') as f:\n",
    "    js = json.load(f)\n",
    "\n",
    "# capitalize all the names in geojson\n",
    "for f in js['features']:\n",
    "    f['properties']['name'] = f['properties']['name'].upper()\n",
    "\n",
    "with open('data/neighbourhoods.geojson', 'w') as out:\n",
    "    json.dump(js, out)"
   ]
  },
  {
   "cell_type": "code",
   "execution_count": null,
   "metadata": {
    "collapsed": true
   },
   "outputs": [],
   "source": []
  }
 ],
 "metadata": {
  "anaconda-cloud": {},
  "kernelspec": {
   "display_name": "Python [conda root]",
   "language": "python",
   "name": "conda-root-py"
  },
  "language_info": {
   "codemirror_mode": {
    "name": "ipython",
    "version": 3
   },
   "file_extension": ".py",
   "mimetype": "text/x-python",
   "name": "python",
   "nbconvert_exporter": "python",
   "pygments_lexer": "ipython3",
   "version": "3.5.2"
  }
 },
 "nbformat": 4,
 "nbformat_minor": 1
}
